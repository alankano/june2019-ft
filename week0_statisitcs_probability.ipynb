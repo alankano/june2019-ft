{
 "cells": [
  {
   "cell_type": "markdown",
   "metadata": {
    "slideshow": {
     "slide_type": "slide"
    }
   },
   "source": [
    "# Statistics and probabilities"
   ]
  },
  {
   "cell_type": "markdown",
   "metadata": {
    "slideshow": {
     "slide_type": "skip"
    }
   },
   "source": [
    "# reference: https://luminousmen.com/post/data-science-probability"
   ]
  },
  {
   "cell_type": "markdown",
   "metadata": {
    "slideshow": {
     "slide_type": "slide"
    }
   },
   "source": [
    "# Probability\n",
    "The study of change\n",
    "\n",
    "* It is represented by the percent chance that some event will occur; \n",
    "* Usually quantified from 0 to 1: smaller numbers also represent smaller chances\n",
    "<img src='https://luminousmen.com/media/data-science-probability_1.jpg' style='width: 450px'>"
   ]
  },
  {
   "cell_type": "markdown",
   "metadata": {
    "slideshow": {
     "slide_type": "slide"
    }
   },
   "source": [
    "# Dependent/Independent/Disjoint  Events\n",
    "\n",
    "<img src='https://www.siyavula.com/read/maths/grade-11/probability/images/4583056a5b732f44c1c526212c48c99e.png' style='width: 550px'>"
   ]
  },
  {
   "cell_type": "markdown",
   "metadata": {
    "slideshow": {
     "slide_type": "slide"
    }
   },
   "source": [
    "# Histogram:\n",
    "* A diagram whose area is proportional to the frequency of a measured variable.\n",
    "\n",
    "<img src='https://www.mathworks.com/help/examples/matlab/win64/IncreaseNumberOfHistogramBinsExample_01.png' style='width: 450px'>"
   ]
  },
  {
   "cell_type": "markdown",
   "metadata": {
    "slideshow": {
     "slide_type": "slide"
    }
   },
   "source": [
    "* # Discrete distributions\n",
    "Represents a set of probabilities that are separe and distinct\n",
    "* # Continuous distribution:\n",
    "Represents a set of probabilities in which they could be any value within a finiti or infinite interval\n",
    "\n",
    "\n",
    "<img src='https://cdn-images-1.medium.com/max/1600/1*7DwXV_h_t7_-TkLAImKBaQ.png' style='width: 550px'>"
   ]
  },
  {
   "cell_type": "markdown",
   "metadata": {
    "slideshow": {
     "slide_type": "slide"
    }
   },
   "source": [
    "# Probability distributions\n",
    "* Function which represents the probabilities of all possible values in the experiment.\n",
    "\n",
    "<img src='http://blog.cloudera.com/wp-content/uploads/2015/12/distribution.png' style='width: 550px'>"
   ]
  },
  {
   "cell_type": "markdown",
   "metadata": {
    "slideshow": {
     "slide_type": "slide"
    }
   },
   "source": [
    "# Central limit theory and bell curve\n",
    "\n",
    "The arithmetic mean of a sufficiently *large number* of iterates of independent random variables, each with a well-defined expected value (mean) and finite variance, will be approximately normally distributed, regardless of the underlying distribution.\n",
    "\n",
    "or we can say: if we take the mean of the samples (n) and plot the frequencies of their mean, we get a normal distribution.\n",
    "\n",
    "<img src='https://s3-ap-south-1.amazonaws.com/av-blog-media/wp-content/uploads/2019/04/231.png' style='width: 550px'>\n",
    "\n",
    "\n"
   ]
  },
  {
   "cell_type": "markdown",
   "metadata": {
    "slideshow": {
     "slide_type": "slide"
    }
   },
   "source": [
    "# Statistics\n",
    "\n",
    "##### Descriptive\n",
    "- Organize\n",
    "- Summarize\n",
    "- Describe and present data\n",
    " \n",
    "##### Inferencial\n",
    "- Generalise from sample to population\n",
    "- Hypothesis test\n",
    "- Making predictions"
   ]
  },
  {
   "cell_type": "markdown",
   "metadata": {
    "slideshow": {
     "slide_type": "slide"
    }
   },
   "source": [
    "# Descriptive statistics\n",
    "\n",
    "<img src='https://cdn-images-1.medium.com/max/1000/1*8noddM5HrclQmqUU9U_dUw.gif' style='width:400px'>\n",
    "\n",
    "\n"
   ]
  },
  {
   "cell_type": "markdown",
   "metadata": {
    "slideshow": {
     "slide_type": "slide"
    }
   },
   "source": [
    "# Skewness and measures of central tendency\n",
    "\n",
    "<img src='http://bitcoinsbrasil.club/wp-content/uploads//2018/11/positive-skew-mean-median-math-measures-of-central-tendency-when-to-use-mean-median-mode-math-solver-calculator.jpg' style='width:560px'>\n",
    "\n",
    "\n"
   ]
  },
  {
   "cell_type": "markdown",
   "metadata": {
    "slideshow": {
     "slide_type": "slide"
    }
   },
   "source": [
    "# Measures of spread\n",
    "\n",
    "<img src='https://www.statisticshowto.datasciencecentral.com/wp-content/uploads/2012/11/standard-deviation-examples1.png' style='width:560px'>\n",
    "\n",
    "\n"
   ]
  },
  {
   "cell_type": "markdown",
   "metadata": {
    "slideshow": {
     "slide_type": "slide"
    }
   },
   "source": [
    "# Standard deviation\n",
    "\n",
    "<img src='https://upload.wikimedia.org/wikipedia/commons/thumb/8/8c/Standard_deviation_diagram.svg/1200px-Standard_deviation_diagram.svg.png' style='width:560px'>\n",
    "\n",
    "\n"
   ]
  },
  {
   "cell_type": "markdown",
   "metadata": {
    "slideshow": {
     "slide_type": "slide"
    }
   },
   "source": [
    "# Types of data\n",
    "\n",
    "<img src='https://nursekey.com/wp-content/uploads/2017/02/B9780323100861000259_u16-01-9780323100861.jpg' style='width:560px'>\n",
    "\n",
    "\n"
   ]
  },
  {
   "cell_type": "markdown",
   "metadata": {
    "slideshow": {
     "slide_type": "slide"
    }
   },
   "source": [
    "# Causation X Correlation\n",
    "\n",
    "<img src='https://whatsthebigdata.files.wordpress.com/2013/04/correlation_vs_causation.png?w=384&h=296' style='width: 550px'>\n",
    "\n",
    "\n"
   ]
  },
  {
   "cell_type": "markdown",
   "metadata": {
    "slideshow": {
     "slide_type": "slide"
    }
   },
   "source": [
    "# Hypothesis\n",
    "\n",
    "<img src='http://aleksandrs.dbsdataprojects.com/wp-content/uploads/sites/101/2016/11/image9FR.jpg' style='width: 550px'>\n",
    "\n",
    "\n"
   ]
  },
  {
   "cell_type": "markdown",
   "metadata": {
    "slideshow": {
     "slide_type": "slide"
    }
   },
   "source": [
    "# Parameters and statistics\n",
    "\n",
    "\n",
    "##### Parameter\n",
    "- numerical measurement describing the __population__\n",
    "\n",
    "##### Statistic\n",
    "- numerical measurement describing the __sample__"
   ]
  },
  {
   "cell_type": "markdown",
   "metadata": {
    "slideshow": {
     "slide_type": "slide"
    }
   },
   "source": [
    "# Parameters and statistics\n",
    "\n",
    "<img src='https://keydifferences.com/wp-content/uploads/2016/05/parametric-vs-non-parametric-test-hierarchy.jpg' style='width: 550px'>\n",
    "\n",
    "\n"
   ]
  },
  {
   "cell_type": "markdown",
   "metadata": {
    "slideshow": {
     "slide_type": "slide"
    }
   },
   "source": [
    "# Parameters and statistics\n",
    "\n",
    "<img src='https://s3-us-west-2.amazonaws.com/courses-images/wp-content/uploads/sites/1729/2017/04/15032213/m7_link_prob_statistical_inference_topic_7_1_m7_intro_inference_3_image1.png' style='width: 550px'>\n",
    "\n",
    "\n"
   ]
  },
  {
   "cell_type": "markdown",
   "metadata": {
    "slideshow": {
     "slide_type": "slide"
    }
   },
   "source": [
    "# Inferential statistics\n",
    "\n",
    "<img src='https://i.pinimg.com/originals/0f/3c/13/0f3c139c2a32f38c5c8b30b9380b5d72.jpg' style='width: 550px'>\n",
    "\n",
    "\n"
   ]
  },
  {
   "cell_type": "code",
   "execution_count": 2,
   "metadata": {
    "slideshow": {
     "slide_type": "skip"
    }
   },
   "outputs": [
    {
     "name": "stdout",
     "output_type": "stream",
     "text": [
      "[NbConvertApp] Converting notebook week0_statisitcs_probability.ipynb to slides\n",
      "[NbConvertApp] Writing 289781 bytes to week0_statisitcs_probability.slides.html\n"
     ]
    }
   ],
   "source": [
    "# convert into a file\n",
    "# note that 'presentation.ipynb' is the file name that has to be updated accordingly to the name you chose for yours\n",
    "\n",
    "! jupyter nbconvert week0_statisitcs_probability.ipynb --to slides --reveal-prefix \"https://cdnjs.cloudflare.com/ajax/libs/reveal.js/3.1.0\"\n"
   ]
  },
  {
   "cell_type": "code",
   "execution_count": null,
   "metadata": {},
   "outputs": [],
   "source": []
  }
 ],
 "metadata": {
  "celltoolbar": "Slideshow",
  "kernelspec": {
   "display_name": "dataAnalysis",
   "language": "python",
   "name": "dataanalysis"
  },
  "language_info": {
   "codemirror_mode": {
    "name": "ipython",
    "version": 3
   },
   "file_extension": ".py",
   "mimetype": "text/x-python",
   "name": "python",
   "nbconvert_exporter": "python",
   "pygments_lexer": "ipython3",
   "version": "3.6.0"
  }
 },
 "nbformat": 4,
 "nbformat_minor": 2
}
